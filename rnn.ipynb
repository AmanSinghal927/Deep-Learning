{
  "nbformat": 4,
  "nbformat_minor": 0,
  "metadata": {
    "colab": {
      "provenance": []
    },
    "kernelspec": {
      "name": "python3",
      "display_name": "Python 3"
    },
    "language_info": {
      "name": "python"
    },
    "accelerator": "GPU",
    "gpuClass": "standard"
  },
  "cells": [
    {
      "cell_type": "markdown",
      "source": [
        "\n",
        "\n",
        "# Homework 2 - Recurrent Neural Networks"
      ],
      "metadata": {
        "id": "Yjikz9IlYrfn"
      }
    },
    {
      "cell_type": "markdown",
      "source": [
        "[link text](https://)In this part of the homework we are going to work with Recurrent Neural Networks, in particular GRU. One of the greatest things that Recurrent Neural Networks can do when working with sequences is retaining data from several timesteps in the past. We are going to explore that property by constructing an 'echo' Recurrent Neural Network.\n",
        "\n",
        "The goal here is to make a model that given a sequence of letters or digits will output that same sequence, but with a certain delay. Let's say the input is a string 'abacaba', we want the model to not output anything for 3 steps (delay length), and then output the original string step by step, except the last 3 characters. So, target output is then 'XXXabac', where 'X' is empty output.\n",
        "\n",
        "This is similar to [this notebook](https://github.com/Atcold/pytorch-Deep-Learning/blob/master/09-echo_data.ipynb) (which you should refer to when doing this assignment), except we're working not with a binary string, but with a sequence of integers between 0 and some N. In our case N is 26, which is the number of letters in the alphabet."
      ],
      "metadata": {
        "id": "jsY_82sOYwyA"
      }
    },
    {
      "cell_type": "markdown",
      "source": [
        "## Dataset\n",
        "\n",
        "Let's implement the dataset. In our case, the data is basically infinite, as we can always generate more examples on the fly, so there's no need to load it from disk.\n"
      ],
      "metadata": {
        "id": "h06mbL17Y6AB"
      }
    },
    {
      "cell_type": "code",
      "source": [
        "import random\n",
        "import string\n",
        "\n",
        "import torch\n",
        "\n",
        "# Max value of the generated integer. 26 is chosen becuase it's\n",
        "# the number of letters in English alphabet.\n",
        "N = 26\n",
        "\n",
        "\n",
        "def idx_to_onehot(x, k=N+1):\n",
        "  \"\"\" Converts the generated integers to one-hot vectors \"\"\"\n",
        "  ones = torch.sparse.torch.eye(k)\n",
        "  shape = x.shape\n",
        "  res = ones.index_select(0, x.view(-1).type(torch.int64))\n",
        "  return res.view(*shape, res.shape[-1])\n",
        "\n",
        "\n",
        "class EchoDataset(torch.utils.data.IterableDataset):\n",
        "\n",
        "  def __init__(self, delay=4, seq_length=15, size=1000):\n",
        "    self.delay = delay\n",
        "    self.seq_length = seq_length\n",
        "    self.size = size\n",
        "  \n",
        "  def __len__(self):\n",
        "    return self.size\n",
        "\n",
        "  def __iter__(self):\n",
        "    \"\"\" Iterable dataset doesn't have to implement __getitem__.\n",
        "        Instead, we only need to implement __iter__ to return\n",
        "        an iterator (or generator).\n",
        "    \"\"\"\n",
        "    for _ in range(self.size):\n",
        "      seq = torch.tensor([random.choice(range(1, N + 1)) for i in range(self.seq_length)], dtype=torch.int64)\n",
        "      result = torch.cat((torch.zeros(self.delay), seq[:self.seq_length - self.delay])).type(torch.int64)\n",
        "      yield seq, result\n",
        "\n",
        "DELAY = 4\n",
        "DATASET_SIZE = 200000\n",
        "ds = EchoDataset(delay=DELAY, size=DATASET_SIZE)"
      ],
      "metadata": {
        "id": "Wcc_4XhBYr2j"
      },
      "execution_count": 20,
      "outputs": []
    },
    {
      "cell_type": "markdown",
      "source": [
        "## Model\n",
        "\n",
        "Now, we want to implement the model. For our purposes, we want to use GRU. The architecture consists of GRU and a decoder. Decoder is responsible for decoding the GRU hidden state to yield a predicting for the next output. The parts you are responsible for filling with your code are marked with `TODO`. "
      ],
      "metadata": {
        "id": "9GGnft_DY9uW"
      }
    },
    {
      "cell_type": "code",
      "source": [
        "class GRUMemory(torch.nn.Module):\n",
        "\n",
        "  def __init__(self, hidden_size):\n",
        "    super().__init__()\n",
        "    # Batch size * sequence length * vocabulary length (N+1)\n",
        "    self.hidden_size = hidden_size\n",
        "    self.gru = torch.nn.GRU(input_size = (N+1), hidden_size = hidden_size, batch_first = True, num_layers = 2) \n",
        "    self.linear = torch.nn.Linear(hidden_size, N+1)\n",
        "\n",
        "  def forward(self, x):\n",
        "    logits, hidden = self.gru(x)\n",
        "    logits = self.linear(logits)\n",
        "    return (logits.permute(0, 2, 1))\n",
        "\n",
        "  @torch.no_grad()\n",
        "  def test_run(self, s):\n",
        "    # This function accepts one string s containing lowercase characters a-z. \n",
        "    # You need to map those characters to one-hot encodings, \n",
        "    # then get the result from your network, and then convert the output \n",
        "    # back to a string of the same length, with 0 mapped to ' ', \n",
        "    # and 1-26 mapped to a-z.\n",
        "    ch_dict = {string.ascii_lowercase[i]:i+1 for i in range(26)}\n",
        "    ch_dict[\" \"] = 0\n",
        "    int_dict = {v:k for (k, v) in ch_dict.items()}\n",
        "      \n",
        "    s_on_hot = torch.stack([idx_to_onehot(torch.tensor(ch_dict[ch])) for ch in s])\n",
        "    logits = self.forward(s_on_hot.unsqueeze(0)) #Just the inference code, removing batch size \n",
        "\n",
        "    logits_list = logits.argmax(1).cpu().numpy()\n",
        "    output = \"\".join([int_dict[num] for num in logits_list[0]])\n",
        "                      \n",
        "    return output"
      ],
      "metadata": {
        "id": "8C_zp_ObQSow"
      },
      "execution_count": 21,
      "outputs": []
    },
    {
      "cell_type": "markdown",
      "source": [
        "## Training\n",
        "Below you need to implement the training of the model. We give you more freedom as for the implementation. The two limitations are that it has to execute within 10 minutes, and that error rate should be below 1%."
      ],
      "metadata": {
        "id": "dDSeC2MHZElo"
      }
    },
    {
      "cell_type": "code",
      "source": [
        "D = DELAY\n",
        "t1 = idx_to_onehot(torch.tensor(DELAY))\n",
        "train_size = len(ds)\n",
        "batch_size = 64\n",
        "dataloader = torch.utils.data.DataLoader(ds, batch_size=batch_size)"
      ],
      "metadata": {
        "id": "pGW_f4E2QSri"
      },
      "execution_count": 22,
      "outputs": []
    },
    {
      "cell_type": "code",
      "source": [
        "hidden_size = 100\n",
        "lr = 0.001\n",
        "device = \"cpu\"\n",
        "model = GRUMemory(hidden_size)\n",
        "criterion = torch.nn.CrossEntropyLoss()\n",
        "optimizer = torch.optim.RMSprop(model.parameters(), lr = lr)"
      ],
      "metadata": {
        "id": "kzD-lUaaQSt8"
      },
      "execution_count": 23,
      "outputs": []
    },
    {
      "cell_type": "code",
      "source": [
        "def train_model():\n",
        "  model.train()\n",
        "  hidden = None\n",
        "  total_values_in_one_chunk = train_size * ds.seq_length\n",
        "  correct = 0\n",
        "  for batch in dataloader:\n",
        "    # Extracting the data and the target given the batch \n",
        "    data, target = batch\n",
        "    data = idx_to_onehot(data).to(device)\n",
        "    target = target.to(device)\n",
        "\n",
        "    # Training pipeline begins\n",
        "    optimizer.zero_grad()\n",
        "    if hidden is not None: hidden.detach_()\n",
        "    logits = model(data)\n",
        "    loss = criterion(logits, target)\n",
        "    loss.backward()\n",
        "    optimizer.step()\n",
        "    pred = logits.argmax(1)"
      ],
      "metadata": {
        "id": "hfxsJEDJQeUY"
      },
      "execution_count": 24,
      "outputs": []
    },
    {
      "cell_type": "code",
      "source": [
        "def test_model(model, sequence_length=15):\n",
        "  \"\"\"\n",
        "  This is the test function that runs 100 different strings through your model,\n",
        "  and checks the error rate.\n",
        "  \"\"\"\n",
        "  total = 0\n",
        "  correct = 0\n",
        "  for i in range(500):\n",
        "    s = ''.join([random.choice(string.ascii_lowercase) for i in range(random.randint(15, 25))])\n",
        "    result = model.test_run(s)\n",
        "    for c1, c2 in zip(s[:-D], result[D:]):\n",
        "      correct += int(c1 == c2)\n",
        "    total += len(s) - D\n",
        "\n",
        "  return correct / total"
      ],
      "metadata": {
        "id": "FPcrtbcRQeXJ"
      },
      "execution_count": 25,
      "outputs": []
    },
    {
      "cell_type": "code",
      "source": [
        "import time\n",
        "import tqdm\n",
        "start_time = time.time()\n",
        "n_epochs = 1\n",
        "for epoch in tqdm.tqdm(range(1, n_epochs + 1)):\n",
        "  train_model()\n",
        "end_time = time.time()\n",
        "duration = end_time - start_time\n",
        "accuracy = test_model(model)\n",
        "assert duration < 600, 'execution took f{duration:.2f} seconds, which longer than 10 mins'\n",
        "assert accuracy > 0.99, f'accuracy is too low, got {accuracy}, need 0.99'\n",
        "print('tests passed')"
      ],
      "metadata": {
        "colab": {
          "base_uri": "https://localhost:8080/"
        },
        "id": "U71NZGPcQeZz",
        "outputId": "986895b0-3db9-4f08-df86-978d61ac67f7"
      },
      "execution_count": 26,
      "outputs": [
        {
          "output_type": "stream",
          "name": "stderr",
          "text": [
            "100%|██████████| 1/1 [01:15<00:00, 75.92s/it]\n"
          ]
        },
        {
          "output_type": "stream",
          "name": "stdout",
          "text": [
            "tests passed\n"
          ]
        }
      ]
    },
    {
      "cell_type": "markdown",
      "source": [
        "## Variable delay model\n",
        "\n",
        "Now, to make this more complicated, we want to have varialbe delay. So, now, the goal is to transform a sequence of pairs (character, delay) into a character sequence with given delay. Delay is constant within one sequence."
      ],
      "metadata": {
        "id": "-oUHZEOYZak3"
      }
    },
    {
      "cell_type": "markdown",
      "source": [
        "### Dataset\n",
        "As before, we first implement the dataset:"
      ],
      "metadata": {
        "id": "7YIBz7gmZdMQ"
      }
    },
    {
      "cell_type": "code",
      "source": [
        "class VariableDelayEchoDataset(torch.utils.data.IterableDataset):\n",
        "\n",
        "  def __init__(self, max_delay=8, seq_length=20, size=1000):\n",
        "    self.max_delay = max_delay\n",
        "    self.seq_length = seq_length\n",
        "    self.size = size\n",
        "  \n",
        "  def __len__(self):\n",
        "    return self.size\n",
        "\n",
        "  def __iter__(self):\n",
        "    for _ in range(self.size):\n",
        "      seq = torch.tensor([random.choice(range(1, N + 1)) for i in range(self.seq_length)], dtype=torch.int64)\n",
        "      delay = random.randint(0, self.max_delay)\n",
        "      result = torch.cat((torch.zeros(delay), seq[:self.seq_length - delay])).type(torch.int64)\n",
        "      yield seq, delay, result"
      ],
      "metadata": {
        "id": "Xo0BiHOGZZjC"
      },
      "execution_count": 204,
      "outputs": []
    },
    {
      "cell_type": "code",
      "source": [
        "DATASET_SIZE = 200000\n",
        "ds = VariableDelayEchoDataset(size=DATASET_SIZE)"
      ],
      "metadata": {
        "id": "DTdqZP7AcjbX"
      },
      "execution_count": 205,
      "outputs": []
    },
    {
      "cell_type": "markdown",
      "source": [
        "### Model\n",
        "\n",
        "And the model."
      ],
      "metadata": {
        "id": "QqEI1oLJZiVP"
      }
    },
    {
      "cell_type": "code",
      "source": [
        "# help(torch.nn.GRU)"
      ],
      "metadata": {
        "id": "nPtQiuphZ-mh"
      },
      "execution_count": 206,
      "outputs": []
    },
    {
      "cell_type": "code",
      "source": [
        "class VariableDelayGRUMemory(torch.nn.Module):\n",
        "\n",
        "  def __init__(self, hidden_size, max_delay):\n",
        "    super().__init__()\n",
        "    self.hidden_size = hidden_size\n",
        "    self.gru = torch.nn.GRU(2*(N+1), hidden_size, num_layers = 2, batch_first = True)\n",
        "    self.linear = torch.nn.Linear(hidden_size, N+1)\n",
        "    self.max_delay = max_delay\n",
        "\n",
        "\n",
        "  def forward(self, x, delays):\n",
        "    logits, _ = self.gru(x)\n",
        "    logits = self.linear(logits)\n",
        "    return (logits.permute(0, 2, 1))\n",
        "\n",
        "  @torch.no_grad()\n",
        "  def test_run(self, s, delay):\n",
        "    # This function accepts one string s containing lowercase characters a-z, \n",
        "    # and a delay - the desired output delay.\n",
        "    # You need to map those characters to one-hot encodings, \n",
        "    # then get the result from your network, and then convert the output \n",
        "    # back to a string of the same length, with 0 mapped to ' ', \n",
        "    # and 1-26 mapped to a-z.\n",
        "\n",
        "    ch_dict = {string.ascii_lowercase[i]:i+1 for i in range(26)}\n",
        "    ch_dict[\" \"] = 0\n",
        "    int_dict = {v:k for (k, v) in ch_dict.items()}\n",
        "      \n",
        "    s_on_hot = torch.stack([idx_to_onehot(torch.tensor(ch_dict[ch])) for ch in s])\n",
        "    # print (s_on_hot.size())\n",
        "    j2 = idx_to_onehot(torch.tensor(delay))\n",
        "    # print (j2.size())\n",
        "    j2 = j2.unsqueeze(0).repeat(s_on_hot.size()[0], 1)\n",
        "    # print (j2.size())\n",
        "    s_on_hot = torch.cat((s_on_hot, j2), dim = 1)\n",
        "    # print (s_on_hot.size())\n",
        "\n",
        "\n",
        "    logits = self.forward(s_on_hot.unsqueeze(0), 1) #Just the inference code, removing batch size \n",
        "\n",
        "    logits_list = logits.argmax(1).cpu().numpy()\n",
        "    output = \"\".join([int_dict[num] for num in logits_list[0]])\n",
        "    # output = \"0\"*delay + output[len(output) - delay]\n",
        "                      \n",
        "    return output"
      ],
      "metadata": {
        "id": "RzgtgbFHRJTL"
      },
      "execution_count": 222,
      "outputs": []
    },
    {
      "cell_type": "markdown",
      "source": [
        "### Train\n",
        "\n",
        "As before, you're free to do what you want, as long as training finishes within 10 minutes and accuracy is above 0.99 for delays between 0 and 8."
      ],
      "metadata": {
        "id": "XxXNTTflZrhL"
      }
    },
    {
      "cell_type": "code",
      "source": [
        "train_size = len(ds)\n",
        "batch_size = 64\n",
        "dataloader = torch.utils.data.DataLoader(ds, batch_size=batch_size)\n",
        "hidden_size = 100\n",
        "lr = 0.001\n",
        "MAX_DELAY = 8\n",
        "device = \"cpu\"\n",
        "model = VariableDelayGRUMemory(hidden_size, MAX_DELAY)\n",
        "criterion = torch.nn.CrossEntropyLoss()\n",
        "optimizer = torch.optim.RMSprop(model.parameters(), lr = lr)"
      ],
      "metadata": {
        "id": "1ufvXZ0Ojv_0"
      },
      "execution_count": 223,
      "outputs": []
    },
    {
      "cell_type": "code",
      "source": [
        "def train_model():\n",
        "  model.train()\n",
        "  hidden = None\n",
        "  total_values_in_one_chunk = train_size * ds.seq_length\n",
        "  correct = 0\n",
        "  for data, delay, target  in dataloader:\n",
        "    # Extracting the data and the target given the batch \n",
        "    data = idx_to_onehot(data)\n",
        "    target = target.to(device)\n",
        "    j1 = idx_to_onehot(torch.tensor(delay))\n",
        "    j1 = j1.unsqueeze(1).repeat(1, data.size()[1], 1)\n",
        "    data = torch.cat((data, j1), dim = 2).to(device) \n",
        "    # print (data.size())     \n",
        "\n",
        "    # Training pipeline begins\n",
        "    optimizer.zero_grad()\n",
        "    if hidden is not None: hidden.detach_()\n",
        "    logits = model(data, 1)\n",
        "    loss = criterion(logits, target)\n",
        "    loss.backward()\n",
        "    optimizer.step()\n",
        "    pred = logits.argmax(1)\n",
        "    # break"
      ],
      "metadata": {
        "id": "Ll3AccHcbJL0"
      },
      "execution_count": 224,
      "outputs": []
    },
    {
      "cell_type": "code",
      "source": [
        "def test_variable_delay_model(model, seq_length=20):\n",
        "  \"\"\"\n",
        "  This is the test function that runs 100 different strings through your model,\n",
        "  and checks the error rate.\n",
        "  \"\"\"\n",
        "  total = 0\n",
        "  correct = 0\n",
        "  for i in range(500):\n",
        "    s = ''.join([random.choice(string.ascii_lowercase) for i in range(seq_length)])\n",
        "    d = random.randint(0, MAX_DELAY)\n",
        "    result = model.test_run(s, d)\n",
        "    if d > 0:\n",
        "      z = zip(s[:-d], result[d:])\n",
        "    else:\n",
        "      z = zip(s, result)\n",
        "    for c1, c2 in z:\n",
        "      correct += int(c1 == c2)\n",
        "    total += len(s) - d\n",
        "  print (\"Accuracy is \", correct/total)\n",
        "  return correct / total"
      ],
      "metadata": {
        "id": "K42HoimMZlZy"
      },
      "execution_count": 225,
      "outputs": []
    },
    {
      "cell_type": "code",
      "source": [
        "import time\n",
        "start_time = time.time()\n",
        "\n",
        "n_epochs = 5\n",
        "for epoch in tqdm.tqdm(range(1, n_epochs + 1)):\n",
        "  train_model()\n",
        "  # break\n",
        "end_time = time.time()\n",
        "duration = end_time - start_time\n",
        "accuracy = test_variable_delay_model(model)\n",
        "\n",
        "end_time = time.time()\n",
        "assert end_time - start_time < 600, 'executing took longer than 10 mins'\n",
        "assert test_variable_delay_model(model) > 0.99, 'accuracy is too low'\n",
        "print('tests passed')"
      ],
      "metadata": {
        "colab": {
          "base_uri": "https://localhost:8080/"
        },
        "id": "8rrr3XX1Zlcq",
        "outputId": "cbc42442-8bb7-40ea-d910-b3745c303f46"
      },
      "execution_count": 226,
      "outputs": [
        {
          "output_type": "stream",
          "name": "stderr",
          "text": [
            "\r  0%|          | 0/5 [00:00<?, ?it/s]<ipython-input-224-658c68cf6d39>:10: UserWarning: To copy construct from a tensor, it is recommended to use sourceTensor.clone().detach() or sourceTensor.clone().detach().requires_grad_(True), rather than torch.tensor(sourceTensor).\n",
            "  j1 = idx_to_onehot(torch.tensor(delay))\n",
            "100%|██████████| 5/5 [08:38<00:00, 103.75s/it]\n"
          ]
        },
        {
          "output_type": "stream",
          "name": "stdout",
          "text": [
            "Accuracy is  0.9972697939935468\n",
            "Accuracy is  0.9978905571410845\n",
            "tests passed\n"
          ]
        }
      ]
    },
    {
      "cell_type": "code",
      "source": [],
      "metadata": {
        "id": "JCKUvOrJ7hLL"
      },
      "execution_count": 226,
      "outputs": []
    }
  ]
}